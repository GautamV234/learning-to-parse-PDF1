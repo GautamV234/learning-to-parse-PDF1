{
 "cells": [
  {
   "cell_type": "code",
   "execution_count": null,
   "metadata": {},
   "outputs": [
    {
     "ename": "",
     "evalue": "",
     "output_type": "error",
     "traceback": [
      "\u001b[1;31mFailed to start the Kernel. \n",
      "Traceback (most recent call last):\n",
      "  File \"/home/varun/.vscode-server/extensions/ms-toolsai.jupyter-2022.3.1000901801/pythonFiles/vscode_datascience_helpers/daemon/daemon_python.py\", line 54, in _decorator\n",
      "    return func(self, *args, **kwargs)\n",
      "  File \"/home/varun/.vscode-server/extensions/ms-toolsai.jupyter-2022.3.1000901801/pythonFiles/vscode_datascience_helpers/jupyter_daemon.py\", line 108, in m_exec_module_observable\n",
      "    self._start_notebook(args, cwd, env)\n",
      "  File \"/home/varun/.vscode-server/extensions/ms-toolsai.jupyter-2022.3.1000901801/pythonFiles/vscode_datascience_helpers/jupyter_daemon.py\", line 154, in _start_notebook\n",
      "    from notebook import notebookapp as app\n",
      "  File \"/home/varun/.local/lib/python3.6/site-packages/notebook/notebookapp.py\", line 44, in <module>\n",
      "    from jinja2 import Environment, FileSystemLoader\n",
      "ModuleNotFoundError: No module named 'jinja2'\n",
      "\n",
      "Failed to run jupyter as observable with args notebook --no-browser --notebook-dir=\"/home/varun/trans\" --KernelManager.autorestart=False --config=/tmp/ddfcdbd3-db9c-4c58-9d78-590eecafb4bb/jupyter_notebook_config.py --NotebookApp.iopub_data_rate_limit=10000000000.0. \n",
      "View Jupyter <a href='command:jupyter.viewOutput'>log</a> for further details."
     ]
    }
   ],
   "source": [
    "from flash.image import SemanticSegmentation\n",
    "from flash.image import SemanticSegmentationData\n",
    "\n",
    "\n",
    "dm = SemanticSegmentationData.from_folders(\n",
    "    predict_folder=r\"testimgs/\",\n",
    "    transform_kwargs=dict(image_size=(1600, 1280)),\n",
    "    batch_size = 1,\n",
    "    )\n",
    "\n",
    "\n",
    "from flash import Trainer\n",
    "\n",
    "import cv2\n",
    "import numpy as np\n",
    "import torch"
   ]
  },
  {
   "cell_type": "code",
   "execution_count": null,
   "metadata": {},
   "outputs": [],
   "source": [
    "model = SemanticSegmentation.load_from_checkpoint(r\"unet/lightning_logs/version_42_mixprimadual/checkpoints/epoch=49-step=9599.ckpt\")\n",
    "# model = SemanticSegmentation.load_from_checkpoint(r\"unet/lightning_logs/version_41_mixprimatern/checkpoints/epoch=49-step=9599.ckpt\")\n",
    "# model = SemanticSegmentation.load_from_checkpoint(r\"unet/lightning_logs/version_43_plainprima/checkpoints/epoch=49-step=9599.ckpt\")\n"
   ]
  },
  {
   "cell_type": "code",
   "execution_count": 22,
   "metadata": {},
   "outputs": [
    {
     "name": "stderr",
     "output_type": "stream",
     "text": [
      "GPU available: True, used: True\n",
      "TPU available: False, using: 0 TPU cores\n",
      "IPU available: False, using: 0 IPUs\n",
      "LOCAL_RANK: 0 - CUDA_VISIBLE_DEVICES: [0]\n"
     ]
    },
    {
     "name": "stdout",
     "output_type": "stream",
     "text": [
      "Predicting: 0it [00:00, ?it/s]"
     ]
    },
    {
     "name": "stderr",
     "output_type": "stream",
     "text": [
      "C:\\Users\\pveen\\AppData\\Local\\Programs\\Python\\Python36\\lib\\site-packages\\pytorch_lightning\\trainer\\data_loading.py:133: UserWarning: The dataloader, predict_dataloader 0, does not have many workers which may be a bottleneck. Consider increasing the value of the `num_workers` argument` (try 12 which is the number of cpus on this machine) in the `DataLoader` init to improve performance.\n",
      "  f\"The dataloader, {name}, does not have many workers which may be a bottleneck.\"\n"
     ]
    },
    {
     "name": "stdout",
     "output_type": "stream",
     "text": [
      "Predicting:   4%|▎         | 1/28 [00:00<00:10,  2.67it/s]"
     ]
    },
    {
     "name": "stderr",
     "output_type": "stream",
     "text": [
      "C:\\Users\\pveen\\AppData\\Local\\Programs\\Python\\Python36\\lib\\site-packages\\torch\\nn\\functional.py:3613: UserWarning: Default upsampling behavior when mode=bilinear is changed to align_corners=False since 0.4.0. Please specify align_corners=True if the old behavior is desired. See the documentation of nn.Upsample for details.\n",
      "  \"See the documentation of nn.Upsample for details.\".format(mode)\n"
     ]
    },
    {
     "name": "stdout",
     "output_type": "stream",
     "text": [
      "Predicting: 100%|██████████| 28/28 [00:06<00:00,  4.20it/s]\n"
     ]
    }
   ],
   "source": [
    "trainer = Trainer(max_epochs=1, gpus = 1)\n",
    "predictions = trainer.predict(model, dm)"
   ]
  },
  {
   "cell_type": "code",
   "execution_count": 23,
   "metadata": {},
   "outputs": [],
   "source": [
    "\n",
    "for i in range(len(predictions)):\n",
    "    inp = (predictions[i][0]['input']).numpy()\n",
    "    inp = np.transpose(inp, (1, 2, 0))/np.max(inp)\n",
    "    pred = (predictions[i][0]['preds'])\n",
    "    pred = torch.softmax(pred, dim = 0)\n",
    "    pred = torch.argmax(pred, dim = 0).numpy()\n",
    "    # print(pred.shape, inp.shape)\n",
    "    inp[:, :, 0][pred == 1] = 255\n",
    "    # inp[:, :, 1][pred == 0] = 50    pred = pred.astype(np.float)\n",
    "\n",
    "    cv2.imwrite('segs/' + str(i) + '.png', (pred*255).astype(np.uint8))\n",
    "    cv2.imwrite('outputs/' + str(i) + '.png', (inp*255).astype(np.uint8))\n",
    "    # pred /= np.max(pred)\n"
   ]
  },
  {
   "cell_type": "code",
   "execution_count": null,
   "metadata": {},
   "outputs": [],
   "source": []
  }
 ],
 "metadata": {
  "interpreter": {
   "hash": "d5cf3276ec875bfd3a6dd7c9cd70bfefbf9f8fae75200921c59c75efcf9f9db2"
  },
  "kernelspec": {
   "display_name": "Python 3.6.5 64-bit",
   "language": "python",
   "name": "python3"
  },
  "language_info": {
   "codemirror_mode": {
    "name": "ipython",
    "version": 3
   },
   "file_extension": ".py",
   "mimetype": "text/x-python",
   "name": "python",
   "nbconvert_exporter": "python",
   "pygments_lexer": "ipython3",
   "version": "3.6.3"
  },
  "orig_nbformat": 4
 },
 "nbformat": 4,
 "nbformat_minor": 2
}
